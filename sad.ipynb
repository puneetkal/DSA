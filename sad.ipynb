{
 "cells": [
  {
   "cell_type": "code",
   "execution_count": null,
   "metadata": {},
   "outputs": [],
   "source": [
    "def dense( x ,w , b ,g):\n",
    "    z=np.dot(x,w)+b\n",
    "    a_out=g(z)\n",
    "    return a_out"
   ]
  },
  {
   "cell_type": "code",
   "execution_count": null,
   "metadata": {},
   "outputs": [],
   "source": [
    "def sequential(x, W1, b1, W2, b2, W3, b3):\n",
    "    a1 = dense(x,  W1, b1, sigmoid)\n",
    "    a2 = dense(a1, W2, b2, sigmoid)\n",
    "    a3 = dense(a2, W3, b3, sigmoid)\n",
    "    return(a3)"
   ]
  }
 ],
 "metadata": {
  "language_info": {
   "name": "python"
  }
 },
 "nbformat": 4,
 "nbformat_minor": 2
}
